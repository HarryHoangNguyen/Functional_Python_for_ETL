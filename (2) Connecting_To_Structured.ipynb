{
 "metadata": {
  "language_info": {
   "codemirror_mode": {
    "name": "ipython",
    "version": 3
   },
   "file_extension": ".py",
   "mimetype": "text/x-python",
   "name": "python",
   "nbconvert_exporter": "python",
   "pygments_lexer": "ipython3",
   "version": "3.8.2"
  },
  "orig_nbformat": 2,
  "kernelspec": {
   "name": "python38264bit963c37ec71bb4fe48ab26989ee700772",
   "display_name": "Python 3.8.2 64-bit"
  },
  "metadata": {
   "interpreter": {
    "hash": "2db524e06e9f5f4ffedc911c917cb75e12dbc923643829bf417064a77eb14d37"
   }
  }
 },
 "nbformat": 4,
 "nbformat_minor": 2,
 "cells": [
  {
   "source": [
    "### Import Libraries"
   ],
   "cell_type": "markdown",
   "metadata": {}
  },
  {
   "cell_type": "code",
   "execution_count": 1,
   "metadata": {},
   "outputs": [],
   "source": [
    "import pyodbc as sql \n",
    "import pandas as pd\n"
   ]
  },
  {
   "source": [
    "### Define connection string to SQL Server"
   ],
   "cell_type": "markdown",
   "metadata": {}
  },
  {
   "cell_type": "code",
   "execution_count": 2,
   "metadata": {},
   "outputs": [],
   "source": [
    "source_db_config = {\n",
    "    'Trusted_Connection': 'yes',\n",
    "    'driver': '{SQL Server}',\n",
    "    'server': '.',\n",
    "    'database': 'AdventureWorksDW2017',\n",
    "    'autocommit': True,\n",
    "}"
   ]
  },
  {
   "source": [
    "### Define the query to be used in the call to SQL"
   ],
   "cell_type": "markdown",
   "metadata": {}
  },
  {
   "cell_type": "code",
   "execution_count": 3,
   "metadata": {},
   "outputs": [],
   "source": [
    "sql_query = '''\n",
    "SELECT *, YEAR(OrderDate) AS OrderYear, MONTH(OrderDate) AS OrderMonth, DAY(OrderDate) AS OrderDay\n",
    "  FROM [AdventureWorksDW2017].[dbo].[FactInternetSales] \n",
    "'''"
   ]
  },
  {
   "source": [
    "### Set the connection"
   ],
   "cell_type": "markdown",
   "metadata": {}
  },
  {
   "cell_type": "code",
   "execution_count": 4,
   "metadata": {},
   "outputs": [],
   "source": [
    "source_conn = sql.connect(**source_db_config)"
   ]
  },
  {
   "source": [
    "### Call SQL and load data to dataframe for storage"
   ],
   "cell_type": "markdown",
   "metadata": {}
  },
  {
   "cell_type": "code",
   "execution_count": 5,
   "metadata": {},
   "outputs": [
    {
     "output_type": "stream",
     "name": "stdout",
     "text": [
      "       ProductKey  OrderDateKey  DueDateKey  ShipDateKey  CustomerKey  \\\n0             310      20101229    20110110     20110105        21768   \n1             346      20101229    20110110     20110105        28389   \n2             346      20101229    20110110     20110105        25863   \n3             336      20101229    20110110     20110105        14501   \n4             346      20101229    20110110     20110105        11003   \n...           ...           ...         ...          ...          ...   \n60393         485      20140128    20140209     20140204        15868   \n60394         225      20140128    20140209     20140204        15868   \n60395         485      20140128    20140209     20140204        18759   \n60396         486      20140128    20140209     20140204        18759   \n60397         225      20140128    20140209     20140204        18759   \n\n       PromotionKey  CurrencyKey  SalesTerritoryKey SalesOrderNumber  \\\n0                 1           19                  6          SO43697   \n1                 1           39                  7          SO43698   \n2                 1          100                  1          SO43699   \n3                 1          100                  4          SO43700   \n4                 1            6                  9          SO43701   \n...             ...          ...                ...              ...   \n60393             1          100                  6          SO75122   \n60394             1          100                  6          SO75122   \n60395             1          100                  6          SO75123   \n60396             1          100                  6          SO75123   \n60397             1          100                  6          SO75123   \n\n       SalesOrderLineNumber  ...    TaxAmt  Freight  CarrierTrackingNumber  \\\n0                         1  ...  286.2616  89.4568                   None   \n1                         1  ...  271.9992  84.9998                   None   \n2                         1  ...  271.9992  84.9998                   None   \n3                         1  ...   55.9279  17.4775                   None   \n4                         1  ...  271.9992  84.9998                   None   \n...                     ...  ...       ...      ...                    ...   \n60393                     1  ...    1.7584   0.5495                   None   \n60394                     2  ...    0.7192   0.2248                   None   \n60395                     1  ...    1.7584   0.5495                   None   \n60396                     2  ...   12.7200   3.9750                   None   \n60397                     3  ...    0.7192   0.2248                   None   \n\n       CustomerPONumber  OrderDate    DueDate   ShipDate  OrderYear  \\\n0                  None 2010-12-29 2011-01-10 2011-01-05       2010   \n1                  None 2010-12-29 2011-01-10 2011-01-05       2010   \n2                  None 2010-12-29 2011-01-10 2011-01-05       2010   \n3                  None 2010-12-29 2011-01-10 2011-01-05       2010   \n4                  None 2010-12-29 2011-01-10 2011-01-05       2010   \n...                 ...        ...        ...        ...        ...   \n60393              None 2014-01-28 2014-02-09 2014-02-04       2014   \n60394              None 2014-01-28 2014-02-09 2014-02-04       2014   \n60395              None 2014-01-28 2014-02-09 2014-02-04       2014   \n60396              None 2014-01-28 2014-02-09 2014-02-04       2014   \n60397              None 2014-01-28 2014-02-09 2014-02-04       2014   \n\n       OrderMonth  OrderDay  \n0              12        29  \n1              12        29  \n2              12        29  \n3              12        29  \n4              12        29  \n...           ...       ...  \n60393           1        28  \n60394           1        28  \n60395           1        28  \n60396           1        28  \n60397           1        28  \n\n[60398 rows x 29 columns]\n"
     ]
    }
   ],
   "source": [
    "df = pd.read_sql(sql_query, source_conn)\n",
    "print(df)"
   ]
  }
 ]
}