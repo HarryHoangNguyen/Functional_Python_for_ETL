{
 "metadata": {
  "language_info": {
   "codemirror_mode": {
    "name": "ipython",
    "version": 3
   },
   "file_extension": ".py",
   "mimetype": "text/x-python",
   "name": "python",
   "nbconvert_exporter": "python",
   "pygments_lexer": "ipython3",
   "version": "3.8.2"
  },
  "orig_nbformat": 2,
  "kernelspec": {
   "name": "python38264bit963c37ec71bb4fe48ab26989ee700772",
   "display_name": "Python 3.8.2 64-bit"
  },
  "metadata": {
   "interpreter": {
    "hash": "2db524e06e9f5f4ffedc911c917cb75e12dbc923643829bf417064a77eb14d37"
   }
  }
 },
 "nbformat": 4,
 "nbformat_minor": 2,
 "cells": [
  {
   "source": [
    "### Import libraries"
   ],
   "cell_type": "markdown",
   "metadata": {}
  },
  {
   "cell_type": "code",
   "execution_count": 2,
   "metadata": {},
   "outputs": [],
   "source": [
    "import pandas as pd"
   ]
  },
  {
   "source": [
    "### Read CSV Files into a DataFrame"
   ],
   "cell_type": "markdown",
   "metadata": {}
  },
  {
   "cell_type": "code",
   "execution_count": 3,
   "metadata": {},
   "outputs": [
    {
     "output_type": "stream",
     "name": "stdout",
     "text": [
      "   ProductKey  OrderDateKey  DueDateKey  ShipDateKey  CustomerKey  \\\n0         310      20101229    20110110     20110105        21768   \n1         346      20101229    20110110     20110105        28389   \n2         346      20101229    20110110     20110105        25863   \n3         336      20101229    20110110     20110105        14501   \n4         346      20101229    20110110     20110105        11003   \n\n   PromotionKey  CurrencyKey  SalesTerritoryKey SalesOrderNumber  \\\n0             1           19                  6          SO43697   \n1             1           39                  7          SO43698   \n2             1          100                  1          SO43699   \n3             1          100                  4          SO43700   \n4             1            6                  9          SO43701   \n\n   SalesOrderLineNumber  ...    TaxAmt  Freight  CarrierTrackingNumber  \\\n0                     1  ...  286.2616  89.4568                    NaN   \n1                     1  ...  271.9992  84.9998                    NaN   \n2                     1  ...  271.9992  84.9998                    NaN   \n3                     1  ...   55.9279  17.4775                    NaN   \n4                     1  ...  271.9992  84.9998                    NaN   \n\n   CustomerPONumber   OrderDate     DueDate    ShipDate  OrderYear  \\\n0               NaN  2010-12-29  2011-01-10  2011-01-05       2010   \n1               NaN  2010-12-29  2011-01-10  2011-01-05       2010   \n2               NaN  2010-12-29  2011-01-10  2011-01-05       2010   \n3               NaN  2010-12-29  2011-01-10  2011-01-05       2010   \n4               NaN  2010-12-29  2011-01-10  2011-01-05       2010   \n\n   OrderMonth  OrderDay  \n0          12        29  \n1          12        29  \n2          12        29  \n3          12        29  \n4          12        29  \n\n[5 rows x 29 columns]\n"
     ]
    }
   ],
   "source": [
    "df_csv = pd.read_csv(\"File_Storage/in/FactSales_Export.csv\")\n",
    "print(df_csv.head())"
   ]
  },
  {
   "source": [
    "### Read Excel Files into a DataFrame"
   ],
   "cell_type": "markdown",
   "metadata": {}
  },
  {
   "cell_type": "code",
   "execution_count": null,
   "metadata": {},
   "outputs": [],
   "source": [
    "df_xlsx = pd.read_excel(\"File_Storage/in/FactSales_Export.xlsx\")\n",
    "print(df_xlsx.head())"
   ]
  },
  {
   "source": [
    "### Read Feather File into a DataFrame\n"
   ],
   "cell_type": "markdown",
   "metadata": {}
  },
  {
   "cell_type": "code",
   "execution_count": 4,
   "metadata": {},
   "outputs": [
    {
     "output_type": "stream",
     "name": "stdout",
     "text": [
      "   ProductKey  OrderDateKey  DueDateKey  ShipDateKey  CustomerKey  \\\n0         310      20101229    20110110     20110105        21768   \n1         346      20101229    20110110     20110105        28389   \n2         346      20101229    20110110     20110105        25863   \n3         336      20101229    20110110     20110105        14501   \n4         346      20101229    20110110     20110105        11003   \n\n   PromotionKey  CurrencyKey  SalesTerritoryKey SalesOrderNumber  \\\n0             1           19                  6          SO43697   \n1             1           39                  7          SO43698   \n2             1          100                  1          SO43699   \n3             1          100                  4          SO43700   \n4             1            6                  9          SO43701   \n\n   SalesOrderLineNumber  ...    TaxAmt  Freight  CarrierTrackingNumber  \\\n0                     1  ...  286.2616  89.4568                   None   \n1                     1  ...  271.9992  84.9998                   None   \n2                     1  ...  271.9992  84.9998                   None   \n3                     1  ...   55.9279  17.4775                   None   \n4                     1  ...  271.9992  84.9998                   None   \n\n   CustomerPONumber  OrderDate    DueDate   ShipDate  OrderYear  OrderMonth  \\\n0              None 2010-12-29 2011-01-10 2011-01-05       2010          12   \n1              None 2010-12-29 2011-01-10 2011-01-05       2010          12   \n2              None 2010-12-29 2011-01-10 2011-01-05       2010          12   \n3              None 2010-12-29 2011-01-10 2011-01-05       2010          12   \n4              None 2010-12-29 2011-01-10 2011-01-05       2010          12   \n\n   OrderDay  \n0        29  \n1        29  \n2        29  \n3        29  \n4        29  \n\n[5 rows x 29 columns]\n"
     ]
    }
   ],
   "source": [
    "df_feather = pd.read_feather(\"File_Storage/in/FactSales_Export.feather\")\n",
    "print(df_feather.head())"
   ]
  },
  {
   "source": [
    "### Read Pickle File into a DataFrame"
   ],
   "cell_type": "markdown",
   "metadata": {}
  },
  {
   "cell_type": "code",
   "execution_count": null,
   "metadata": {},
   "outputs": [],
   "source": [
    "df_pickle = pd.read_pickle(\"File_Storage/in/FactSales_Export.pkl\", compression=\"gzip\")\n",
    "print(df_pickle.head())"
   ]
  },
  {
   "source": [
    "### Read Parquet file into a DataFrame"
   ],
   "cell_type": "markdown",
   "metadata": {}
  },
  {
   "cell_type": "code",
   "execution_count": 5,
   "metadata": {},
   "outputs": [
    {
     "output_type": "stream",
     "name": "stdout",
     "text": [
      "   ProductKey  OrderDateKey  DueDateKey  ShipDateKey  CustomerKey  \\\n0         310      20101229    20110110     20110105        21768   \n1         346      20101229    20110110     20110105        28389   \n2         346      20101229    20110110     20110105        25863   \n3         336      20101229    20110110     20110105        14501   \n4         346      20101229    20110110     20110105        11003   \n\n   PromotionKey  CurrencyKey  SalesTerritoryKey SalesOrderNumber  \\\n0             1           19                  6          SO43697   \n1             1           39                  7          SO43698   \n2             1          100                  1          SO43699   \n3             1          100                  4          SO43700   \n4             1            6                  9          SO43701   \n\n   SalesOrderLineNumber  ...    TaxAmt  Freight  CarrierTrackingNumber  \\\n0                     1  ...  286.2616  89.4568                   None   \n1                     1  ...  271.9992  84.9998                   None   \n2                     1  ...  271.9992  84.9998                   None   \n3                     1  ...   55.9279  17.4775                   None   \n4                     1  ...  271.9992  84.9998                   None   \n\n   CustomerPONumber  OrderDate    DueDate   ShipDate  OrderYear  OrderMonth  \\\n0              None 2010-12-29 2011-01-10 2011-01-05       2010          12   \n1              None 2010-12-29 2011-01-10 2011-01-05       2010          12   \n2              None 2010-12-29 2011-01-10 2011-01-05       2010          12   \n3              None 2010-12-29 2011-01-10 2011-01-05       2010          12   \n4              None 2010-12-29 2011-01-10 2011-01-05       2010          12   \n\n   OrderDay  \n0        29  \n1        29  \n2        29  \n3        29  \n4        29  \n\n[5 rows x 29 columns]\n"
     ]
    }
   ],
   "source": [
    "df_parquet = pd.read_parquet(\"File_Storage/in/FactSales_Export.parquet\")\n",
    "print(df_parquet.head())"
   ]
  }
 ]
}