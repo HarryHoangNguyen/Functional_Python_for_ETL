{
 "metadata": {
  "language_info": {
   "codemirror_mode": {
    "name": "ipython",
    "version": 3
   },
   "file_extension": ".py",
   "mimetype": "text/x-python",
   "name": "python",
   "nbconvert_exporter": "python",
   "pygments_lexer": "ipython3",
   "version": "3.8.2"
  },
  "orig_nbformat": 2,
  "kernelspec": {
   "name": "python38264bit963c37ec71bb4fe48ab26989ee700772",
   "display_name": "Python 3.8.2 64-bit"
  },
  "metadata": {
   "interpreter": {
    "hash": "2db524e06e9f5f4ffedc911c917cb75e12dbc923643829bf417064a77eb14d37"
   }
  }
 },
 "nbformat": 4,
 "nbformat_minor": 2,
 "cells": [
  {
   "source": [
    "### Import libraries"
   ],
   "cell_type": "markdown",
   "metadata": {}
  },
  {
   "cell_type": "code",
   "execution_count": 1,
   "metadata": {},
   "outputs": [],
   "source": [
    "import pandas as pd \n",
    "import numpy as np \n",
    "import sqlalchemy as sa\n",
    "import configparser \n",
    "\n",
    "from Functions.sql_processes import *"
   ]
  },
  {
   "source": [
    "### Load the configuration file"
   ],
   "cell_type": "markdown",
   "metadata": {}
  },
  {
   "cell_type": "code",
   "execution_count": 2,
   "metadata": {},
   "outputs": [
    {
     "output_type": "execute_result",
     "data": {
      "text/plain": [
       "['Config/config.ini']"
      ]
     },
     "metadata": {},
     "execution_count": 2
    }
   ],
   "source": [
    "# Load Config\n",
    "config = configparser.ConfigParser()\n",
    "config.read('Config/config.ini')"
   ]
  },
  {
   "source": [
    "### Set the connection string"
   ],
   "cell_type": "markdown",
   "metadata": {}
  },
  {
   "cell_type": "code",
   "execution_count": 3,
   "metadata": {},
   "outputs": [],
   "source": [
    "# Initialize Variables\n",
    "eng_conn = config['Dev']['conn_string']"
   ]
  },
  {
   "source": [
    "### Set the query string used for lookup"
   ],
   "cell_type": "markdown",
   "metadata": {}
  },
  {
   "cell_type": "code",
   "execution_count": 4,
   "metadata": {},
   "outputs": [],
   "source": [
    "query = '''\n",
    "    Select * FROM AdventureWorks2017.Sales.SalesOrderHeader\n",
    "'''"
   ]
  },
  {
   "source": [
    "### Connect to sql and execute the query, returning results to dataframe"
   ],
   "cell_type": "markdown",
   "metadata": {}
  },
  {
   "cell_type": "code",
   "execution_count": 5,
   "metadata": {},
   "outputs": [],
   "source": [
    "df = pd.read_sql_query(query, eng_conn)"
   ]
  },
  {
   "source": [
    "### Get row counts"
   ],
   "cell_type": "markdown",
   "metadata": {}
  },
  {
   "cell_type": "code",
   "execution_count": 6,
   "metadata": {},
   "outputs": [
    {
     "output_type": "execute_result",
     "data": {
      "text/plain": [
       "SalesOrderID              31465\n",
       "RevisionNumber            31465\n",
       "OrderDate                 31465\n",
       "DueDate                   31465\n",
       "ShipDate                  31465\n",
       "Status                    31465\n",
       "OnlineOrderFlag           31465\n",
       "SalesOrderNumber          31465\n",
       "PurchaseOrderNumber        3806\n",
       "AccountNumber             31465\n",
       "CustomerID                31465\n",
       "SalesPersonID              3806\n",
       "TerritoryID               31465\n",
       "BillToAddressID           31465\n",
       "ShipToAddressID           31465\n",
       "ShipMethodID              31465\n",
       "CreditCardID              30334\n",
       "CreditCardApprovalCode    30334\n",
       "CurrencyRateID            13976\n",
       "SubTotal                  31465\n",
       "TaxAmt                    31465\n",
       "Freight                   31465\n",
       "TotalDue                  31465\n",
       "Comment                       0\n",
       "rowguid                   31465\n",
       "ModifiedDate              31465\n",
       "dtype: int64"
      ]
     },
     "metadata": {},
     "execution_count": 6
    }
   ],
   "source": [
    "df.count()"
   ]
  },
  {
   "source": [
    "### Get the number of blank/null values"
   ],
   "cell_type": "markdown",
   "metadata": {}
  },
  {
   "cell_type": "code",
   "execution_count": 7,
   "metadata": {},
   "outputs": [
    {
     "output_type": "execute_result",
     "data": {
      "text/plain": [
       "SalesOrderID                  0\n",
       "RevisionNumber                0\n",
       "OrderDate                     0\n",
       "DueDate                       0\n",
       "ShipDate                      0\n",
       "Status                        0\n",
       "OnlineOrderFlag               0\n",
       "SalesOrderNumber              0\n",
       "PurchaseOrderNumber       27659\n",
       "AccountNumber                 0\n",
       "CustomerID                    0\n",
       "SalesPersonID             27659\n",
       "TerritoryID                   0\n",
       "BillToAddressID               0\n",
       "ShipToAddressID               0\n",
       "ShipMethodID                  0\n",
       "CreditCardID               1131\n",
       "CreditCardApprovalCode     1131\n",
       "CurrencyRateID            17489\n",
       "SubTotal                      0\n",
       "TaxAmt                        0\n",
       "Freight                       0\n",
       "TotalDue                      0\n",
       "Comment                   31465\n",
       "rowguid                       0\n",
       "ModifiedDate                  0\n",
       "dtype: int64"
      ]
     },
     "metadata": {},
     "execution_count": 7
    }
   ],
   "source": [
    "df.isnull().sum()"
   ]
  },
  {
   "source": [
    "### Create a column for PaymentMethod.  Setting Cash if CreditCardID is null and Card if value exists"
   ],
   "cell_type": "markdown",
   "metadata": {}
  },
  {
   "cell_type": "code",
   "execution_count": 8,
   "metadata": {},
   "outputs": [],
   "source": [
    "df['PaymentMethod'] = np.where(df['CreditCardID'].isnull(), 'Cash', 'Card')"
   ]
  },
  {
   "source": [
    "### Output the top 10 results"
   ],
   "cell_type": "markdown",
   "metadata": {}
  },
  {
   "cell_type": "code",
   "execution_count": null,
   "metadata": {},
   "outputs": [],
   "source": [
    "print(df.head(10))"
   ]
  },
  {
   "source": [
    "### Start here for Breweries data Profile (Live coding, what could go wrong!)"
   ],
   "cell_type": "markdown",
   "metadata": {}
  }
 ]
}