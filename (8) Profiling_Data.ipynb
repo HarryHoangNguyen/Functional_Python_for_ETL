{
 "metadata": {
  "language_info": {
   "codemirror_mode": {
    "name": "ipython",
    "version": 3
   },
   "file_extension": ".py",
   "mimetype": "text/x-python",
   "name": "python",
   "nbconvert_exporter": "python",
   "pygments_lexer": "ipython3",
   "version": "3.8.2"
  },
  "orig_nbformat": 2,
  "kernelspec": {
   "name": "python38264bit963c37ec71bb4fe48ab26989ee700772",
   "display_name": "Python 3.8.2 64-bit"
  },
  "metadata": {
   "interpreter": {
    "hash": "2db524e06e9f5f4ffedc911c917cb75e12dbc923643829bf417064a77eb14d37"
   }
  }
 },
 "nbformat": 4,
 "nbformat_minor": 2,
 "cells": [
  {
   "source": [
    "### Import libraries"
   ],
   "cell_type": "markdown",
   "metadata": {}
  },
  {
   "cell_type": "code",
   "execution_count": null,
   "metadata": {},
   "outputs": [],
   "source": [
    "import pandas as pd \n",
    "import numpy as np \n",
    "import sqlalchemy as sa\n",
    "import configparser \n",
    "\n",
    "from Functions.sql_processes import *"
   ]
  },
  {
   "source": [
    "### Load the configuration file"
   ],
   "cell_type": "markdown",
   "metadata": {}
  },
  {
   "cell_type": "code",
   "execution_count": null,
   "metadata": {},
   "outputs": [],
   "source": [
    "# Load Config\n",
    "config = configparser.ConfigParser()\n",
    "config.read('Config/config.ini')"
   ]
  },
  {
   "source": [
    "### Set the connection string"
   ],
   "cell_type": "markdown",
   "metadata": {}
  },
  {
   "cell_type": "code",
   "execution_count": null,
   "metadata": {},
   "outputs": [],
   "source": [
    "# Initialize Variables\n",
    "eng_conn = config['Dev']['conn_string']"
   ]
  },
  {
   "source": [
    "### Set the query string used for lookup"
   ],
   "cell_type": "markdown",
   "metadata": {}
  },
  {
   "cell_type": "code",
   "execution_count": null,
   "metadata": {},
   "outputs": [],
   "source": [
    "query = '''\n",
    "    Select * FROM AdventureWorks2017.Sales.SalesOrderHeader\n",
    "'''"
   ]
  },
  {
   "source": [
    "### Connect to sql and execute the query, returning results to dataframe"
   ],
   "cell_type": "markdown",
   "metadata": {}
  },
  {
   "cell_type": "code",
   "execution_count": null,
   "metadata": {},
   "outputs": [],
   "source": [
    "df = pd.read_sql_query(query, eng_conn)"
   ]
  },
  {
   "source": [
    "### Get row counts"
   ],
   "cell_type": "markdown",
   "metadata": {}
  },
  {
   "cell_type": "code",
   "execution_count": 7,
   "metadata": {},
   "outputs": [
    {
     "output_type": "execute_result",
     "data": {
      "text/plain": [
       "SalesOrderID              31465\n",
       "RevisionNumber            31465\n",
       "OrderDate                 31465\n",
       "DueDate                   31465\n",
       "ShipDate                  31465\n",
       "Status                    31465\n",
       "OnlineOrderFlag           31465\n",
       "SalesOrderNumber          31465\n",
       "PurchaseOrderNumber        3806\n",
       "AccountNumber             31465\n",
       "CustomerID                31465\n",
       "SalesPersonID              3806\n",
       "TerritoryID               31465\n",
       "BillToAddressID           31465\n",
       "ShipToAddressID           31465\n",
       "ShipMethodID              31465\n",
       "CreditCardID              30334\n",
       "CreditCardApprovalCode    30334\n",
       "CurrencyRateID            13976\n",
       "SubTotal                  31465\n",
       "TaxAmt                    31465\n",
       "Freight                   31465\n",
       "TotalDue                  31465\n",
       "Comment                       0\n",
       "rowguid                   31465\n",
       "ModifiedDate              31465\n",
       "dtype: int64"
      ]
     },
     "metadata": {},
     "execution_count": 7
    }
   ],
   "source": [
    "df.count()"
   ]
  },
  {
   "source": [
    "### Get the number of blank/null values"
   ],
   "cell_type": "markdown",
   "metadata": {}
  },
  {
   "cell_type": "code",
   "execution_count": 8,
   "metadata": {},
   "outputs": [
    {
     "output_type": "execute_result",
     "data": {
      "text/plain": [
       "SalesOrderID                  0\n",
       "RevisionNumber                0\n",
       "OrderDate                     0\n",
       "DueDate                       0\n",
       "ShipDate                      0\n",
       "Status                        0\n",
       "OnlineOrderFlag               0\n",
       "SalesOrderNumber              0\n",
       "PurchaseOrderNumber       27659\n",
       "AccountNumber                 0\n",
       "CustomerID                    0\n",
       "SalesPersonID             27659\n",
       "TerritoryID                   0\n",
       "BillToAddressID               0\n",
       "ShipToAddressID               0\n",
       "ShipMethodID                  0\n",
       "CreditCardID               1131\n",
       "CreditCardApprovalCode     1131\n",
       "CurrencyRateID            17489\n",
       "SubTotal                      0\n",
       "TaxAmt                        0\n",
       "Freight                       0\n",
       "TotalDue                      0\n",
       "Comment                   31465\n",
       "rowguid                       0\n",
       "ModifiedDate                  0\n",
       "dtype: int64"
      ]
     },
     "metadata": {},
     "execution_count": 8
    }
   ],
   "source": [
    "df.isnull().sum()"
   ]
  },
  {
   "source": [
    "### Create a column for PaymentMethod.  Setting Cash if CreditCardID is null and Card if value exists"
   ],
   "cell_type": "markdown",
   "metadata": {}
  },
  {
   "cell_type": "code",
   "execution_count": 9,
   "metadata": {},
   "outputs": [],
   "source": [
    "df['PaymentMethod'] = np.where(df['CreditCardID'].isnull(), 'Cash', 'Card')"
   ]
  },
  {
   "source": [
    "### Output the top 10 results"
   ],
   "cell_type": "markdown",
   "metadata": {}
  },
  {
   "cell_type": "code",
   "execution_count": 10,
   "metadata": {},
   "outputs": [
    {
     "output_type": "stream",
     "name": "stdout",
     "text": [
      "   SalesOrderID  RevisionNumber  OrderDate    DueDate   ShipDate  Status  \\\n0         43659               8 2011-05-31 2011-06-12 2011-06-07       5   \n1         43660               8 2011-05-31 2011-06-12 2011-06-07       5   \n2         43661               8 2011-05-31 2011-06-12 2011-06-07       5   \n3         43662               8 2011-05-31 2011-06-12 2011-06-07       5   \n4         43663               8 2011-05-31 2011-06-12 2011-06-07       5   \n5         43664               8 2011-05-31 2011-06-12 2011-06-07       5   \n6         43665               8 2011-05-31 2011-06-12 2011-06-07       5   \n7         43666               8 2011-05-31 2011-06-12 2011-06-07       5   \n8         43667               8 2011-05-31 2011-06-12 2011-06-07       5   \n9         43668               8 2011-05-31 2011-06-12 2011-06-07       5   \n\n   OnlineOrderFlag SalesOrderNumber PurchaseOrderNumber   AccountNumber  ...  \\\n0            False          SO43659         PO522145787  10-4020-000676  ...   \n1            False          SO43660       PO18850127500  10-4020-000117  ...   \n2            False          SO43661       PO18473189620  10-4020-000442  ...   \n3            False          SO43662       PO18444174044  10-4020-000227  ...   \n4            False          SO43663       PO18009186470  10-4020-000510  ...   \n5            False          SO43664       PO16617121983  10-4020-000397  ...   \n6            False          SO43665       PO16588191572  10-4020-000146  ...   \n7            False          SO43666       PO16008173883  10-4020-000511  ...   \n8            False          SO43667       PO15428132599  10-4020-000646  ...   \n9            False          SO43668       PO14732180295  10-4020-000514  ...   \n\n   CreditCardApprovalCode  CurrencyRateID    SubTotal     TaxAmt    Freight  \\\n0           105041Vi84182             NaN  20565.6206  1971.5149   616.0984   \n1           115213Vi29411             NaN   1294.2529   124.2483    38.8276   \n2             85274Vi6854             4.0  32726.4786  3153.7696   985.5530   \n3           125295Vi53935             4.0  28832.5289  2775.1646   867.2389   \n4            45303Vi22691             NaN    419.4589    40.2681    12.5838   \n5             95555Vi4081             NaN  24432.6088  2344.9921   732.8100   \n6            35568Vi78804             NaN  14352.7713  1375.9427   429.9821   \n7           105623Vi69217             NaN   5056.4896   486.3747   151.9921   \n8            55680Vi53503             NaN   6107.0820   586.1203   183.1626   \n9             85817Vi8045             4.0  35944.1562  3461.7654  1081.8017   \n\n     TotalDue  Comment                               rowguid  ModifiedDate  \\\n0  23153.2339     None  79B65321-39CA-4115-9CBA-8FE0903E12E6    2011-06-07   \n1   1457.3288     None  738DC42D-D03B-48A1-9822-F95A67EA7389    2011-06-07   \n2  36865.8012     None  D91B9131-18A4-4A11-BC3A-90B6F53E9D74    2011-06-07   \n3  32474.9324     None  4A1ECFC0-CC3A-4740-B028-1C50BB48711C    2011-06-07   \n4    472.3108     None  9B1E7A40-6AE0-4AD3-811C-A64951857C4B    2011-06-07   \n5  27510.4109     None  22A8A5DA-8C22-42AD-9241-839489B6EF0D    2011-06-07   \n6  16158.6961     None  5602C304-853C-43D7-9E79-76E320D476CF    2011-06-07   \n7   5694.8564     None  E2A90057-1366-4487-8A7E-8085845FF770    2011-06-07   \n8   6876.3649     None  86D5237D-432D-4B21-8ABC-671942F5789D    2011-06-07   \n9  40487.7233     None  281CC355-D538-494E-9B44-461B36A826C6    2011-06-07   \n\n   PaymentMethod  \n0           Card  \n1           Card  \n2           Card  \n3           Card  \n4           Card  \n5           Card  \n6           Card  \n7           Card  \n8           Card  \n9           Card  \n\n[10 rows x 27 columns]\n"
     ]
    }
   ],
   "source": [
    "print(df.head(10))"
   ]
  },
  {
   "source": [
    "### Start here for Breweries data Profile (Live coding, what could go wrong!)"
   ],
   "cell_type": "markdown",
   "metadata": {}
  }
 ]
}