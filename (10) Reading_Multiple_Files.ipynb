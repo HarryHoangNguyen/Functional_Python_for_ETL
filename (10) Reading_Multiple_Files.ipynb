{
 "metadata": {
  "language_info": {
   "codemirror_mode": {
    "name": "ipython",
    "version": 3
   },
   "file_extension": ".py",
   "mimetype": "text/x-python",
   "name": "python",
   "nbconvert_exporter": "python",
   "pygments_lexer": "ipython3",
   "version": "3.8.2"
  },
  "orig_nbformat": 2,
  "kernelspec": {
   "name": "python38264bit963c37ec71bb4fe48ab26989ee700772",
   "display_name": "Python 3.8.2 64-bit"
  },
  "metadata": {
   "interpreter": {
    "hash": "2db524e06e9f5f4ffedc911c917cb75e12dbc923643829bf417064a77eb14d37"
   }
  }
 },
 "nbformat": 4,
 "nbformat_minor": 2,
 "cells": [
  {
   "cell_type": "code",
   "execution_count": 3,
   "metadata": {},
   "outputs": [],
   "source": [
    "import pandas as pd \n",
    "import os\n",
    "import pyodbc\n",
    "import configparser\n",
    "from Functions.sql_processes import *"
   ]
  },
  {
   "cell_type": "code",
   "execution_count": 4,
   "metadata": {},
   "outputs": [],
   "source": [
    "# Load Config\n",
    "config = configparser.ConfigParser()\n",
    "config.read('Config/config.ini')\n",
    "\n",
    "conn_string = config['Production']['conn_string']"
   ]
  },
  {
   "cell_type": "code",
   "execution_count": 5,
   "metadata": {},
   "outputs": [
    {
     "output_type": "stream",
     "name": "stdout",
     "text": [
      "./File_Storage/in/Bike_Data\\JC-202004-citibike-tripdata.csv\n./File_Storage/in/Bike_Data\\JC-202005-citibike-tripdata.csv\n./File_Storage/in/Bike_Data\\JC-202006-citibike-tripdata.csv\n./File_Storage/in/Bike_Data\\JC-202007-citibike-tripdata.csv\n./File_Storage/in/Bike_Data\\JC-202008-citibike-tripdata.csv\n./File_Storage/in/Bike_Data\\JC-202009-citibike-tripdata.csv\n./File_Storage/in/Bike_Data\\JC-202010-citibike-tripdata.csv\n./File_Storage/in/Bike_Data\\JC-202011-citibike-tripdata.csv\n./File_Storage/in/Bike_Data\\JC-202101-citibike-tripdata.csv\n./File_Storage/in/Bike_Data\\JC-202102-citibike-tripdata.csv\n./File_Storage/in/Bike_Data\\JC-202103-citibike-tripdata.csv\n./File_Storage/in/Bike_Data\\JC-202104-citibike-tripdata.csv\n"
     ]
    }
   ],
   "source": [
    "directory = \"./File_Storage/in/Bike_Data\"\n",
    "\n",
    "for filename in os.listdir(directory):\n",
    "    print(os.path.join(directory, filename))"
   ]
  },
  {
   "cell_type": "code",
   "execution_count": 6,
   "metadata": {},
   "outputs": [
    {
     "output_type": "stream",
     "name": "stdout",
     "text": [
      "Wall time: 323 ms\n",
      "JC-202004-citibike-tripdata.csv has a total of 9268 Records\n",
      "Wall time: 81.7 ms\n",
      "JC-202005-citibike-tripdata.csv has a total of 25077 Records\n",
      "Wall time: 106 ms\n",
      "JC-202006-citibike-tripdata.csv has a total of 36921 Records\n",
      "Wall time: 114 ms\n",
      "JC-202007-citibike-tripdata.csv has a total of 38680 Records\n",
      "Wall time: 119 ms\n",
      "JC-202008-citibike-tripdata.csv has a total of 43267 Records\n",
      "Wall time: 173 ms\n",
      "JC-202009-citibike-tripdata.csv has a total of 53833 Records\n",
      "Wall time: 84 ms\n",
      "JC-202010-citibike-tripdata.csv has a total of 30086 Records\n",
      "Wall time: 65 ms\n",
      "JC-202011-citibike-tripdata.csv has a total of 21275 Records\n",
      "Wall time: 33.1 ms\n",
      "JC-202101-citibike-tripdata.csv has a total of 11624 Records\n",
      "Wall time: 139 ms\n",
      "JC-202102-citibike-tripdata.csv has a total of 4725 Records\n",
      "Wall time: 72.4 ms\n",
      "JC-202103-citibike-tripdata.csv has a total of 16843 Records\n",
      "Wall time: 70 ms\n",
      "JC-202104-citibike-tripdata.csv has a total of 23318 Records\n"
     ]
    }
   ],
   "source": [
    "full_df = pd.DataFrame()\n",
    "for filename in os.listdir(directory):\n",
    "    file_path = os.path.join(directory, filename)\n",
    "    %time df = pd.read_csv(file_path)\n",
    "    print(filename + \" has a total of \" + str(df.shape[0]) + \" Records\")\n",
    "    full_df = full_df.append(df, ignore_index= True)"
   ]
  },
  {
   "cell_type": "code",
   "execution_count": 7,
   "metadata": {},
   "outputs": [
    {
     "output_type": "execute_result",
     "data": {
      "text/plain": [
       "314917"
      ]
     },
     "metadata": {},
     "execution_count": 7
    }
   ],
   "source": [
    "full_df.shape[0]"
   ]
  },
  {
   "cell_type": "code",
   "execution_count": 8,
   "metadata": {},
   "outputs": [
    {
     "output_type": "execute_result",
     "data": {
      "text/plain": [
       "tripduration               0\n",
       "starttime                  0\n",
       "stoptime                   0\n",
       "start station id           0\n",
       "start station name         0\n",
       "start station latitude     0\n",
       "start station longitude    0\n",
       "end station id             0\n",
       "end station name           0\n",
       "end station latitude       0\n",
       "end station longitude      0\n",
       "bikeid                     0\n",
       "usertype                   0\n",
       "birth year                 0\n",
       "gender                     0\n",
       "dtype: int64"
      ]
     },
     "metadata": {},
     "execution_count": 8
    }
   ],
   "source": [
    "df.isnull().sum()"
   ]
  },
  {
   "cell_type": "code",
   "execution_count": 9,
   "metadata": {},
   "outputs": [
    {
     "output_type": "execute_result",
     "data": {
      "text/plain": [
       "tripduration               314917\n",
       "starttime                  314917\n",
       "stoptime                   314917\n",
       "start station id           314917\n",
       "start station name         314917\n",
       "start station latitude     314917\n",
       "start station longitude    314917\n",
       "end station id             314917\n",
       "end station name           314917\n",
       "end station latitude       314917\n",
       "end station longitude      314917\n",
       "bikeid                     314917\n",
       "usertype                   314917\n",
       "birth year                 314917\n",
       "gender                     314917\n",
       "dtype: int64"
      ]
     },
     "metadata": {},
     "execution_count": 9
    }
   ],
   "source": [
    "full_df.count()"
   ]
  },
  {
   "cell_type": "code",
   "execution_count": 10,
   "metadata": {},
   "outputs": [
    {
     "output_type": "stream",
     "name": "stdout",
     "text": [
      "Wall time: 2min 4s\n"
     ]
    }
   ],
   "source": [
    "%time write_sql(full_df, 'Bike_Data', conn_string)"
   ]
  },
  {
   "cell_type": "code",
   "execution_count": 12,
   "metadata": {},
   "outputs": [
    {
     "output_type": "stream",
     "name": "stdout",
     "text": [
      "Wall time: 3.13 s\n"
     ]
    }
   ],
   "source": [
    "%time full_df.to_csv('./File_Storage/out/full_bikedata.csv', index= False)"
   ]
  },
  {
   "cell_type": "code",
   "execution_count": 13,
   "metadata": {},
   "outputs": [],
   "source": [
    "server = 'localhost'\n",
    "database = 'FunctionalPy'\n",
    "filepath = 'C:/Users/JoshuaHigginbotham/source/repos/Functional_Python_for_ETL/File_Storage/out/full_bikedata.csv'\n",
    " \n",
    "# SQL Server Connection\n",
    "conn = pyodbc.connect(\n",
    "    'Driver={SQL Server};'\n",
    "    'Server='+ server + ';'\n",
    "    'Database=' + database + ';'\n",
    "    'Trusted_Connection=yes;'\n",
    "    )\n",
    " \n",
    "bulksql = f\"\"\"\n",
    "    BULK INSERT [dbo].[bike_data_bulk]\n",
    "    FROM '{filepath}'\n",
    "    WITH (\n",
    "        DATAFILETYPE = 'char'\n",
    "        ,FIELDTERMINATOR = ','\n",
    "        ,ROWTERMINATOR = '0x0a'\n",
    "        ,FIRSTROW = 2\n",
    "        ,KEEPNULLS\n",
    "        );\n",
    "\"\"\"\n",
    " \n",
    "# Open the connection / cursor\n",
    "cursor = conn.cursor()\n",
    " \n",
    "# Execute the SQL statement\n",
    "cursor.execute(bulksql)\n",
    "cursor.close()"
   ]
  }
 ]
}