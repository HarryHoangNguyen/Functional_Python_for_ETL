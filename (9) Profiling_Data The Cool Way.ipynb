{
 "metadata": {
  "language_info": {
   "codemirror_mode": {
    "name": "ipython",
    "version": 3
   },
   "file_extension": ".py",
   "mimetype": "text/x-python",
   "name": "python",
   "nbconvert_exporter": "python",
   "pygments_lexer": "ipython3",
   "version": "3.8.2"
  },
  "orig_nbformat": 2,
  "kernelspec": {
   "name": "python38264bit963c37ec71bb4fe48ab26989ee700772",
   "display_name": "Python 3.8.2 64-bit"
  },
  "metadata": {
   "interpreter": {
    "hash": "2db524e06e9f5f4ffedc911c917cb75e12dbc923643829bf417064a77eb14d37"
   }
  }
 },
 "nbformat": 4,
 "nbformat_minor": 2,
 "cells": [
  {
   "source": [
    "### Import libraries"
   ],
   "cell_type": "markdown",
   "metadata": {}
  },
  {
   "cell_type": "code",
   "execution_count": null,
   "metadata": {},
   "outputs": [],
   "source": [
    "import pandas as pd \n",
    "import numpy as np \n",
    "import sqlalchemy as sa\n",
    "import configparser \n",
    "\n",
    "from Functions.sql_processes import *\n",
    "from pandas_profiling import ProfileReport\n",
    "\n",
    "#https://pypi.org/project/pandas-profiling/"
   ]
  },
  {
   "source": [
    "### Load the configuration file"
   ],
   "cell_type": "markdown",
   "metadata": {}
  },
  {
   "cell_type": "code",
   "execution_count": null,
   "metadata": {},
   "outputs": [],
   "source": [
    "# Load Config\n",
    "config = configparser.ConfigParser()\n",
    "config.read('Config/config.ini')"
   ]
  },
  {
   "source": [
    "### Set the connection string"
   ],
   "cell_type": "markdown",
   "metadata": {}
  },
  {
   "cell_type": "code",
   "execution_count": null,
   "metadata": {},
   "outputs": [],
   "source": [
    "# Initialize Variables\n",
    "eng_conn = config['Dev']['conn_string']"
   ]
  },
  {
   "source": [
    "### Set the query string used for lookup"
   ],
   "cell_type": "markdown",
   "metadata": {}
  },
  {
   "cell_type": "code",
   "execution_count": null,
   "metadata": {},
   "outputs": [],
   "source": [
    "query = '''\n",
    "    Select * FROM AdventureWorks2017.Sales.SalesOrderHeader\n",
    "'''"
   ]
  },
  {
   "source": [
    "### Connect to sql and execute the query, returning results to dataframe"
   ],
   "cell_type": "markdown",
   "metadata": {}
  },
  {
   "cell_type": "code",
   "execution_count": null,
   "metadata": {},
   "outputs": [],
   "source": [
    "df = pd.read_sql_query(query, eng_conn)"
   ]
  },
  {
   "source": [
    "### Set data profile dataset and title"
   ],
   "cell_type": "markdown",
   "metadata": {}
  },
  {
   "cell_type": "code",
   "execution_count": null,
   "metadata": {},
   "outputs": [],
   "source": [
    "profile = ProfileReport(df, title=\"Sales Profiling Report\")"
   ]
  },
  {
   "source": [
    "### Output Data Profile to directory for review"
   ],
   "cell_type": "markdown",
   "metadata": {}
  },
  {
   "cell_type": "code",
   "execution_count": null,
   "metadata": {},
   "outputs": [],
   "source": [
    "profile.to_file(\"Data_Profiles/Sales_Data_Profile.html\")"
   ]
  }
 ]
}